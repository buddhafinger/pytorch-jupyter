{
 "cells": [
  {
   "cell_type": "code",
   "execution_count": 2,
   "metadata": {},
   "outputs": [
    {
     "name": "stdout",
     "output_type": "stream",
     "text": [
      "Solving environment: done\n",
      "\n",
      "## Package Plan ##\n",
      "\n",
      "  environment location: /opt/conda\n",
      "\n",
      "  added / updated specs: \n",
      "    - matplotlib\n",
      "\n",
      "\n",
      "The following packages will be downloaded:\n",
      "\n",
      "    package                    |            build\n",
      "    ---------------------------|-----------------\n",
      "    cryptography-2.3.1         |   py36hc365091_0         585 KB\n",
      "    cycler-0.10.0              |           py36_0          13 KB\n",
      "    qt-5.9.6                   |       h8703b6f_2        87.1 MB\n",
      "    python-3.6.6               |       h6e4f718_2        28.9 MB\n",
      "    sip-4.19.8                 |   py36hf484d3e_0         290 KB\n",
      "    pytz-2018.7                |           py36_0         250 KB\n",
      "    matplotlib-3.0.1           |   py36h5429711_0         6.6 MB\n",
      "    kiwisolver-1.0.1           |   py36hf484d3e_0          83 KB\n",
      "    certifi-2018.10.15         |           py36_0         139 KB\n",
      "    ca-certificates-2018.03.07 |                0         124 KB\n",
      "    conda-4.5.11               |           py36_0         1.0 MB\n",
      "    pyparsing-2.3.0            |           py36_0         101 KB\n",
      "    openssl-1.0.2p             |       h14c3975_0         3.5 MB\n",
      "    pyqt-5.9.2                 |   py36h05f1152_2         5.6 MB\n",
      "    ------------------------------------------------------------\n",
      "                                           Total:       134.2 MB\n",
      "\n",
      "The following NEW packages will be INSTALLED:\n",
      "\n",
      "    cycler:          0.10.0-py36_0                  \n",
      "    kiwisolver:      1.0.1-py36hf484d3e_0           \n",
      "    matplotlib:      3.0.1-py36h5429711_0           \n",
      "    pyparsing:       2.3.0-py36_0                   \n",
      "    pytz:            2018.7-py36_0                  \n",
      "\n",
      "The following packages will be UPDATED:\n",
      "\n",
      "    ca-certificates: 2018.03.07-0           anaconda --> 2018.03.07-0         \n",
      "    certifi:         2018.10.15-py36_0      anaconda --> 2018.10.15-py36_0    \n",
      "    conda:           4.5.11-py36_0          anaconda --> 4.5.11-py36_0        \n",
      "    pyqt:            5.6.0-py36_2           anaconda --> 5.9.2-py36h05f1152_2 \n",
      "    qt:              5.6.3-h8bf5577_3       anaconda --> 5.9.6-h8703b6f_2     \n",
      "\n",
      "The following packages will be DOWNGRADED:\n",
      "\n",
      "    cryptography:    2.4.1-py36h1ba5d50_0   anaconda --> 2.3.1-py36hc365091_0 \n",
      "    openssl:         1.1.1-h7b6447c_0       anaconda --> 1.0.2p-h14c3975_0    \n",
      "    python:          3.6.7-h0371630_0       anaconda --> 3.6.6-h6e4f718_2     \n",
      "    sip:             4.19.13-py36he6710b0_0 anaconda --> 4.19.8-py36hf484d3e_0\n",
      "\n",
      "\n",
      "Downloading and Extracting Packages\n",
      "cryptography-2.3.1   | 585 KB    | ##################################### | 100% \n",
      "cycler-0.10.0        | 13 KB     | ##################################### | 100% \n",
      "qt-5.9.6             | 87.1 MB   | ##################################### | 100% \n",
      "python-3.6.6         | 28.9 MB   | ##################################### | 100% \n",
      "sip-4.19.8           | 290 KB    | ##################################### | 100% \n",
      "pytz-2018.7          | 250 KB    | ##################################### | 100% \n",
      "matplotlib-3.0.1     | 6.6 MB    | ##################################### | 100% \n",
      "kiwisolver-1.0.1     | 83 KB     | ##################################### | 100% \n",
      "certifi-2018.10.15   | 139 KB    | ##################################### | 100% \n",
      "ca-certificates-2018 | 124 KB    | ##################################### | 100% \n",
      "conda-4.5.11         | 1.0 MB    | ##################################### | 100% \n",
      "pyparsing-2.3.0      | 101 KB    | ##################################### | 100% \n",
      "openssl-1.0.2p       | 3.5 MB    | ##################################### | 100% \n",
      "pyqt-5.9.2           | 5.6 MB    | ##################################### | 100% \n",
      "Preparing transaction: done\n",
      "Verifying transaction: done\n",
      "Executing transaction: done\n"
     ]
    }
   ],
   "source": [
    "# Install a conda package in the current Jupyter kernel\n",
    "import sys\n",
    "!conda install --yes --prefix {sys.prefix} matplotlib"
   ]
  }
 ],
 "metadata": {
  "kernelspec": {
   "display_name": "Python 3",
   "language": "python",
   "name": "python3"
  },
  "language_info": {
   "codemirror_mode": {
    "name": "ipython",
    "version": 3
   },
   "file_extension": ".py",
   "mimetype": "text/x-python",
   "name": "python",
   "nbconvert_exporter": "python",
   "pygments_lexer": "ipython3",
   "version": "3.6.7"
  }
 },
 "nbformat": 4,
 "nbformat_minor": 2
}
